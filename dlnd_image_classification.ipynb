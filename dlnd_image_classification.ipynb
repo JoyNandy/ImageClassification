{
 "cells": [
  {
   "cell_type": "markdown",
   "metadata": {
    "collapsed": true
   },
   "source": [
    "# Image Classification\n",
    "In this project, you'll classify images from the [CIFAR-10 dataset](https://www.cs.toronto.edu/~kriz/cifar.html).  The dataset consists of airplanes, dogs, cats, and other objects. You'll preprocess the images, then train a convolutional neural network on all the samples. The images need to be normalized and the labels need to be one-hot encoded.  You'll get to apply what you learned and build a convolutional, max pooling, dropout, and fully connected layers.  At the end, you'll get to see your neural network's predictions on the sample images.\n",
    "## Get the Data\n",
    "Run the following cell to download the [CIFAR-10 dataset for python](https://www.cs.toronto.edu/~kriz/cifar-10-python.tar.gz)."
   ]
  },
  {
   "cell_type": "code",
   "execution_count": 1,
   "metadata": {},
   "outputs": [
    {
     "name": "stdout",
     "output_type": "stream",
     "text": [
      "All files found!\n"
     ]
    }
   ],
   "source": [
    "\"\"\"\n",
    "DON'T MODIFY ANYTHING IN THIS CELL THAT IS BELOW THIS LINE\n",
    "\"\"\"\n",
    "from urllib.request import urlretrieve\n",
    "from os.path import isfile, isdir\n",
    "from tqdm import tqdm\n",
    "import problem_unittests as tests\n",
    "import tarfile\n",
    "\n",
    "cifar10_dataset_folder_path = 'cifar-10-batches-py'\n",
    "\n",
    "# Use Floyd's cifar-10 dataset if present\n",
    "floyd_cifar10_location = '/input/cifar-10/python.tar.gz'\n",
    "if isfile(floyd_cifar10_location):\n",
    "    tar_gz_path = floyd_cifar10_location\n",
    "else:\n",
    "    tar_gz_path = 'cifar-10-python.tar.gz'\n",
    "\n",
    "class DLProgress(tqdm):\n",
    "    last_block = 0\n",
    "\n",
    "    def hook(self, block_num=1, block_size=1, total_size=None):\n",
    "        self.total = total_size\n",
    "        self.update((block_num - self.last_block) * block_size)\n",
    "        self.last_block = block_num\n",
    "\n",
    "if not isfile(tar_gz_path):\n",
    "    with DLProgress(unit='B', unit_scale=True, miniters=1, desc='CIFAR-10 Dataset') as pbar:\n",
    "        urlretrieve(\n",
    "            'https://www.cs.toronto.edu/~kriz/cifar-10-python.tar.gz',\n",
    "            tar_gz_path,\n",
    "            pbar.hook)\n",
    "\n",
    "if not isdir(cifar10_dataset_folder_path):\n",
    "    with tarfile.open(tar_gz_path) as tar:\n",
    "        tar.extractall()\n",
    "        tar.close()\n",
    "\n",
    "\n",
    "tests.test_folder_path(cifar10_dataset_folder_path)"
   ]
  },
  {
   "cell_type": "markdown",
   "metadata": {},
   "source": [
    "## Explore the Data\n",
    "The dataset is broken into batches to prevent your machine from running out of memory.  The CIFAR-10 dataset consists of 5 batches, named `data_batch_1`, `data_batch_2`, etc.. Each batch contains the labels and images that are one of the following:\n",
    "* airplane\n",
    "* automobile\n",
    "* bird\n",
    "* cat\n",
    "* deer\n",
    "* dog\n",
    "* frog\n",
    "* horse\n",
    "* ship\n",
    "* truck\n",
    "\n",
    "Understanding a dataset is part of making predictions on the data.  Play around with the code cell below by changing the `batch_id` and `sample_id`. The `batch_id` is the id for a batch (1-5). The `sample_id` is the id for a image and label pair in the batch.\n",
    "\n",
    "Ask yourself \"What are all possible labels?\", \"What is the range of values for the image data?\", \"Are the labels in order or random?\".  Answers to questions like these will help you preprocess the data and end up with better predictions."
   ]
  },
  {
   "cell_type": "code",
   "execution_count": 12,
   "metadata": {},
   "outputs": [
    {
     "name": "stdout",
     "output_type": "stream",
     "text": [
      "\n",
      "Stats of batch 1:\n",
      "Samples: 10000\n",
      "Label Counts: {0: 1005, 1: 974, 2: 1032, 3: 1016, 4: 999, 5: 937, 6: 1030, 7: 1001, 8: 1025, 9: 981}\n",
      "First 20 Labels: [6, 9, 9, 4, 1, 1, 2, 7, 8, 3, 4, 7, 7, 2, 9, 9, 9, 3, 2, 6]\n",
      "\n",
      "Example of Image 5:\n",
      "Image - Min Value: 0 Max Value: 252\n",
      "Image - Shape: (32, 32, 3)\n",
      "Label - Label Id: 1 Name: automobile\n"
     ]
    },
    {
     "data": {
      "image/png": "[encoded data removed]",
      "text/plain": [
       "<matplotlib.figure.Figure at 0x2e411207c18>"
      ]
     },
     "metadata": {
      "image/png": {
       "height": 250,
       "width": 253
      }
     },
     "output_type": "display_data"
    }
   ],
   "source": [
    "%matplotlib inline\n",
    "%config InlineBackend.figure_format = 'retina'\n",
    "\n",
    "import helper\n",
    "import numpy as np\n",
    "\n",
    "# Explore the dataset\n",
    "batch_id = 1\n",
    "sample_id = 5\n",
    "helper.display_stats(cifar10_dataset_folder_path, batch_id, sample_id)"
   ]
  },
  {
   "cell_type": "markdown",
   "metadata": {},
   "source": [
    "## Implement Preprocess Functions\n",
    "### Normalize\n",
    "In the cell below, implement the `normalize` function to take in image data, `x`, and return it as a normalized Numpy array. The values should be in the range of 0 to 1, inclusive.  The return object should be the same shape as `x`."
   ]
  },
  {
   "cell_type": "code",
   "execution_count": 13,
   "metadata": {},
   "outputs": [
    {
     "name": "stdout",
     "output_type": "stream",
     "text": [
      "Tests Passed\n"
     ]
    }
   ],
   "source": [
    "def normalize(x):\n",
    "    \"\"\"\n",
    "    Normalize a list of sample image data in the range of 0 to 1\n",
    "    : x: List of image data.  The image shape is (32, 32, 3)\n",
    "    : return: Numpy array of normalize data\n",
    "    \"\"\"\n",
    "    maximum = np.max(x)\n",
    "    minimum = np.min(x)\n",
    "    return (x - minimum) / (maximum - minimum)\n",
    "\n",
    "\n",
    "\"\"\"\n",
    "DON'T MODIFY ANYTHING IN THIS CELL THAT IS BELOW THIS LINE\n",
    "\"\"\"\n",
    "tests.test_normalize(normalize)"
   ]
  },
  {
   "cell_type": "markdown",
   "metadata": {},
   "source": [
    "### One-hot encode\n",
    "Just like the previous code cell, you'll be implementing a function for preprocessing.  This time, you'll implement the `one_hot_encode` function. The input, `x`, are a list of labels.  Implement the function to return the list of labels as One-Hot encoded Numpy array.  The possible values for labels are 0 to 9. The one-hot encoding function should return the same encoding for each value between each call to `one_hot_encode`.  Make sure to save the map of encodings outside the function.\n",
    "\n",
    "Hint: Don't reinvent the wheel."
   ]
  },
  {
   "cell_type": "code",
   "execution_count": 14,
   "metadata": {},
   "outputs": [
    {
     "name": "stdout",
     "output_type": "stream",
     "text": [
      "Tests Passed\n"
     ]
    }
   ],
   "source": [
    "def one_hot_encode(x):\n",
    "    \"\"\"\n",
    "    One hot encode a list of sample labels. Return a one-hot encoded vector for each label.\n",
    "    : x: List of sample Labels\n",
    "    : return: Numpy array of one-hot encoded labels\n",
    "    \"\"\"\n",
    "    nx = np.max(x) + 1\n",
    "    return np.eye(nx)[x]\n",
    "\n",
    "\n",
    "\"\"\"\n",
    "DON'T MODIFY ANYTHING IN THIS CELL THAT IS BELOW THIS LINE\n",
    "\"\"\"\n",
    "tests.test_one_hot_encode(one_hot_encode)"
   ]
  },
  {
   "cell_type": "markdown",
   "metadata": {},
   "source": [
    "### Randomize Data\n",
    "As you saw from exploring the data above, the order of the samples are randomized.  It doesn't hurt to randomize it again, but you don't need to for this dataset."
   ]
  },
  {
   "cell_type": "markdown",
   "metadata": {},
   "source": [
    "## Preprocess all the data and save it\n",
    "Running the code cell below will preprocess all the CIFAR-10 data and save it to file. The code below also uses 10% of the training data for validation."
   ]
  },
  {
   "cell_type": "code",
   "execution_count": 15,
   "metadata": {
    "collapsed": true
   },
   "outputs": [],
   "source": [
    "\"\"\"\n",
    "DON'T MODIFY ANYTHING IN THIS CELL\n",
    "\"\"\"\n",
    "# Preprocess Training, Validation, and Testing Data\n",
    "helper.preprocess_and_save_data(cifar10_dataset_folder_path, normalize, one_hot_encode)"
   ]
  },
  {
   "cell_type": "markdown",
   "metadata": {},
   "source": [
    "# Check Point\n",
    "This is your first checkpoint.  If you ever decide to come back to this notebook or have to restart the notebook, you can start from here.  The preprocessed data has been saved to disk."
   ]
  },
  {
   "cell_type": "code",
   "execution_count": 16,
   "metadata": {
    "collapsed": true
   },
   "outputs": [],
   "source": [
    "\"\"\"\n",
    "DON'T MODIFY ANYTHING IN THIS CELL\n",
    "\"\"\"\n",
    "import pickle\n",
    "import problem_unittests as tests\n",
    "import helper\n",
    "\n",
    "# Load the Preprocessed Validation data\n",
    "valid_features, valid_labels = pickle.load(open('preprocess_validation.p', mode='rb'))"
   ]
  },
  {
   "cell_type": "markdown",
   "metadata": {},
   "source": [
    "## Build the network\n",
    "For the neural network, you'll build each layer into a function.  Most of the code you've seen has been outside of functions. To test your code more thoroughly, we require that you put each layer in a function.  This allows us to give you better feedback and test for simple mistakes using our unittests before you submit your project.\n",
    "\n",
    ">**Note:** If you're finding it hard to dedicate enough time for this course each week, we've provided a small shortcut to this part of the project. In the next couple of problems, you'll have the option to use classes from the [TensorFlow Layers](https://www.tensorflow.org/api_docs/python/tf/layers) or [TensorFlow Layers (contrib)](https://www.tensorflow.org/api_guides/python/contrib.layers) packages to build each layer, except the layers you build in the \"Convolutional and Max Pooling Layer\" section.  TF Layers is similar to Keras's and TFLearn's abstraction to layers, so it's easy to pickup.\n",
    "\n",
    ">However, if you would like to get the most out of this course, try to solve all the problems _without_ using anything from the TF Layers packages. You **can** still use classes from other packages that happen to have the same name as ones you find in TF Layers! For example, instead of using the TF Layers version of the `conv2d` class, [tf.layers.conv2d](https://www.tensorflow.org/api_docs/python/tf/layers/conv2d), you would want to use the TF Neural Network version of `conv2d`, [tf.nn.conv2d](https://www.tensorflow.org/api_docs/python/tf/nn/conv2d). \n",
    "\n",
    "Let's begin!\n",
    "\n",
    "### Input\n",
    "The neural network needs to read the image data, one-hot encoded labels, and dropout keep probability. Implement the following functions\n",
    "* Implement `neural_net_image_input`\n",
    " * Return a [TF Placeholder](https://www.tensorflow.org/api_docs/python/tf/placeholder)\n",
    " * Set the shape using `image_shape` with batch size set to `None`.\n",
    " * Name the TensorFlow placeholder \"x\" using the TensorFlow `name` parameter in the [TF Placeholder](https://www.tensorflow.org/api_docs/python/tf/placeholder).\n",
    "* Implement `neural_net_label_input`\n",
    " * Return a [TF Placeholder](https://www.tensorflow.org/api_docs/python/tf/placeholder)\n",
    " * Set the shape using `n_classes` with batch size set to `None`.\n",
    " * Name the TensorFlow placeholder \"y\" using the TensorFlow `name` parameter in the [TF Placeholder](https://www.tensorflow.org/api_docs/python/tf/placeholder).\n",
    "* Implement `neural_net_keep_prob_input`\n",
    " * Return a [TF Placeholder](https://www.tensorflow.org/api_docs/python/tf/placeholder) for dropout keep probability.\n",
    " * Name the TensorFlow placeholder \"keep_prob\" using the TensorFlow `name` parameter in the [TF Placeholder](https://www.tensorflow.org/api_docs/python/tf/placeholder).\n",
    "\n",
    "These names will be used at the end of the project to load your saved model.\n",
    "\n",
    "Note: `None` for shapes in TensorFlow allow for a dynamic size."
   ]
  },
  {
   "cell_type": "code",
   "execution_count": 17,
   "metadata": {},
   "outputs": [
    {
     "name": "stdout",
     "output_type": "stream",
     "text": [
      "Image Input Tests Passed.\n",
      "Label Input Tests Passed.\n",
      "Keep Prob Tests Passed.\n"
     ]
    }
   ],
   "source": [
    "import tensorflow as tf\n",
    "\n",
    "def neural_net_image_input(image_shape):\n",
    "    \"\"\"\n",
    "    Return a Tensor for a bach of image input\n",
    "    : image_shape: Shape of the images\n",
    "    : return: Tensor for image input.\n",
    "    \"\"\"\n",
    "    return tf.placeholder(\n",
    "        tf.float32,\n",
    "        [None, image_shape[0], image_shape[1], 3],\n",
    "        name='x'\n",
    "    )\n",
    "\n",
    "\n",
    "def neural_net_label_input(n_classes):\n",
    "    \"\"\"\n",
    "    Return a Tensor for a batch of label input\n",
    "    : n_classes: Number of classes\n",
    "    : return: Tensor for label input.\n",
    "    \"\"\"\n",
    "    return tf.placeholder(\n",
    "        tf.float32,\n",
    "        [None, n_classes],\n",
    "        name='y'\n",
    "    )\n",
    "\n",
    "\n",
    "def neural_net_keep_prob_input():\n",
    "    \"\"\"\n",
    "    Return a Tensor for keep probability\n",
    "    : return: Tensor for keep probability.\n",
    "    \"\"\"\n",
    "    return tf.placeholder(tf.float32, name='keep_prob')\n",
    "\n",
    "\n",
    "\"\"\"\n",
    "DON'T MODIFY ANYTHING IN THIS CELL THAT IS BELOW THIS LINE\n",
    "\"\"\"\n",
    "tf.reset_default_graph()\n",
    "tests.test_nn_image_inputs(neural_net_image_input)\n",
    "tests.test_nn_label_inputs(neural_net_label_input)\n",
    "tests.test_nn_keep_prob_inputs(neural_net_keep_prob_input)"
   ]
  },
  {
   "cell_type": "markdown",
   "metadata": {},
   "source": [
    "### Convolution and Max Pooling Layer\n",
    "Convolution layers have a lot of success with images. For this code cell, you should implement the function `conv2d_maxpool` to apply convolution then max pooling:\n",
    "* Create the weight and bias using `conv_ksize`, `conv_num_outputs` and the shape of `x_tensor`.\n",
    "* Apply a convolution to `x_tensor` using weight and `conv_strides`.\n",
    " * We recommend you use same padding, but you're welcome to use any padding.\n",
    "* Add bias\n",
    "* Add a nonlinear activation to the convolution.\n",
    "* Apply Max Pooling using `pool_ksize` and `pool_strides`.\n",
    " * We recommend you use same padding, but you're welcome to use any padding.\n",
    "\n",
    "**Note:** You **can't** use [TensorFlow Layers](https://www.tensorflow.org/api_docs/python/tf/layers) or [TensorFlow Layers (contrib)](https://www.tensorflow.org/api_guides/python/contrib.layers) for **this** layer, but you can still use TensorFlow's [Neural Network](https://www.tensorflow.org/api_docs/python/tf/nn) package. You may still use the shortcut option for all the **other** layers."
   ]
  },
  {
   "cell_type": "code",
   "execution_count": 19,
   "metadata": {},
   "outputs": [
    {
     "name": "stdout",
     "output_type": "stream",
     "text": [
      "Tests Passed\n"
     ]
    }
   ],
   "source": [
    "def conv2d_maxpool(x_tensor, conv_num_outputs, conv_ksize, conv_strides, pool_ksize, pool_strides):\n",
    "    \"\"\"\n",
    "    Apply convolution then max pooling to x_tensor\n",
    "    :param x_tensor: TensorFlow Tensor\n",
    "    :param conv_num_outputs: Number of outputs for the convolutional layer\n",
    "    :param conv_ksize: kernal size 2-D Tuple for the convolutional layer\n",
    "    :param conv_strides: Stride 2-D Tuple for convolution\n",
    "    :param pool_ksize: kernal size 2-D Tuple for pool\n",
    "    :param pool_strides: Stride 2-D Tuple for pool\n",
    "    : return: A tensor that represents convolution and max pooling of x_tensor\n",
    "    \"\"\"\n",
    "    # Tensorflow has the crappiest API I've ever seen\n",
    "    input_depth = x_tensor.get_shape().as_list()[-1]\n",
    "    W = tf.Variable(tf.random_normal(\n",
    "        [conv_ksize[0], conv_ksize[1], input_depth, conv_num_outputs],\n",
    "        stddev=0.1\n",
    "    ))\n",
    "    b = tf.Variable(tf.zeros(conv_num_outputs))\n",
    "    conv = tf.nn.conv2d(x_tensor, W, [1, conv_strides[0], conv_strides[1], 1], 'SAME') + b\n",
    "    conv = tf.nn.relu(conv)\n",
    "    return tf.nn.max_pool(\n",
    "        conv,\n",
    "        [1, pool_ksize[0], pool_ksize[1], 1],\n",
    "        [1, pool_strides[0], pool_strides[1], 1],\n",
    "        'SAME'\n",
    "    )\n",
    "\n",
    "\n",
    "\"\"\"\n",
    "DON'T MODIFY ANYTHING IN THIS CELL THAT IS BELOW THIS LINE\n",
    "\"\"\"\n",
    "tests.test_con_pool(conv2d_maxpool)"
   ]
  },
  {
   "cell_type": "markdown",
   "metadata": {},
   "source": [
    "### Flatten Layer\n",
    "Implement the `flatten` function to change the dimension of `x_tensor` from a 4-D tensor to a 2-D tensor.  The output should be the shape (*Batch Size*, *Flattened Image Size*). Shortcut option: you can use classes from the [TensorFlow Layers](https://www.tensorflow.org/api_docs/python/tf/layers) or [TensorFlow Layers (contrib)](https://www.tensorflow.org/api_guides/python/contrib.layers) packages for this layer. For more of a challenge, only use other TensorFlow packages."
   ]
  },
  {
   "cell_type": "code",
   "execution_count": 20,
   "metadata": {},
   "outputs": [
    {
     "name": "stdout",
     "output_type": "stream",
     "text": [
      "Tests Passed\n"
     ]
    }
   ],
   "source": [
    "def flatten(x_tensor):\n",
    "    \"\"\"\n",
    "    Flatten x_tensor to (Batch Size, Flattened Image Size)\n",
    "    : x_tensor: A tensor of size (Batch Size, ...), where ... are the image dimensions.\n",
    "    : return: A tensor of size (Batch Size, Flattened Image Size).\n",
    "    \"\"\"\n",
    "    shape = x_tensor.get_shape().as_list()\n",
    "    # Again, tensorflow is simply ridiculous. I receive a dimension with None but\n",
    "    # can't pass it along? WTF?!\n",
    "    return tf.reshape(x_tensor, [-1, np.prod(shape[1:])])\n",
    "\n",
    "\n",
    "\"\"\"\n",
    "DON'T MODIFY ANYTHING IN THIS CELL THAT IS BELOW THIS LINE\n",
    "\"\"\"\n",
    "tests.test_flatten(flatten)"
   ]
  },
  {
   "cell_type": "markdown",
   "metadata": {},
   "source": [
    "### Fully-Connected Layer\n",
    "Implement the `fully_conn` function to apply a fully connected layer to `x_tensor` with the shape (*Batch Size*, *num_outputs*). Shortcut option: you can use classes from the [TensorFlow Layers](https://www.tensorflow.org/api_docs/python/tf/layers) or [TensorFlow Layers (contrib)](https://www.tensorflow.org/api_guides/python/contrib.layers) packages for this layer. For more of a challenge, only use other TensorFlow packages."
   ]
  },
  {
   "cell_type": "code",
   "execution_count": 21,
   "metadata": {},
   "outputs": [
    {
     "name": "stdout",
     "output_type": "stream",
     "text": [
      "Tests Passed\n"
     ]
    }
   ],
   "source": [
    "def fully_conn(x_tensor, num_outputs):\n",
    "    \"\"\"\n",
    "    Apply a fully connected layer to x_tensor using weight and bias\n",
    "    : x_tensor: A 2-D tensor where the first dimension is batch size.\n",
    "    : num_outputs: The number of output that the new tensor should be.\n",
    "    : return: A 2-D tensor where the second dimension is num_outputs.\n",
    "    \"\"\"\n",
    "    shape = x_tensor.get_shape().as_list()\n",
    "    W = tf.Variable(tf.random_normal([shape[-1], num_outputs], stddev=0.1))\n",
    "    b = tf.Variable(tf.zeros(num_outputs)) + 0.11\n",
    "    return tf.nn.relu(tf.add(tf.matmul(x_tensor, W), b))\n",
    "\n",
    "\n",
    "\n",
    "\"\"\"\n",
    "DON'T MODIFY ANYTHING IN THIS CELL THAT IS BELOW THIS LINE\n",
    "\"\"\"\n",
    "tests.test_fully_conn(fully_conn)"
   ]
  },
  {
   "cell_type": "markdown",
   "metadata": {},
   "source": [
    "### Output Layer\n",
    "Implement the `output` function to apply a fully connected layer to `x_tensor` with the shape (*Batch Size*, *num_outputs*). Shortcut option: you can use classes from the [TensorFlow Layers](https://www.tensorflow.org/api_docs/python/tf/layers) or [TensorFlow Layers (contrib)](https://www.tensorflow.org/api_guides/python/contrib.layers) packages for this layer. For more of a challenge, only use other TensorFlow packages.\n",
    "\n",
    "**Note:** Activation, softmax, or cross entropy should **not** be applied to this."
   ]
  },
  {
   "cell_type": "code",
   "execution_count": 22,
   "metadata": {},
   "outputs": [
    {
     "name": "stdout",
     "output_type": "stream",
     "text": [
      "Tests Passed\n"
     ]
    }
   ],
   "source": [
    "def output(x_tensor, num_outputs):\n",
    "    \"\"\"\n",
    "    Apply a output layer to x_tensor using weight and bias\n",
    "    : x_tensor: A 2-D tensor where the first dimension is batch size.\n",
    "    : num_outputs: The number of output that the new tensor should be.\n",
    "    : return: A 2-D tensor where the second dimension is num_outputs.\n",
    "    \"\"\"\n",
    "    shape = x_tensor.get_shape().as_list()\n",
    "    W = tf.Variable(tf.random_normal([shape[-1], num_outputs]))\n",
    "    b = tf.Variable(tf.zeros(num_outputs))\n",
    "    return tf.add(tf.matmul(x_tensor, W), b)\n",
    "\n",
    "\n",
    "\"\"\"\n",
    "DON'T MODIFY ANYTHING IN THIS CELL THAT IS BELOW THIS LINE\n",
    "\"\"\"\n",
    "tests.test_output(output)"
   ]
  },
  {
   "cell_type": "markdown",
   "metadata": {},
   "source": [
    "### Create Convolutional Model\n",
    "Implement the function `conv_net` to create a convolutional neural network model. The function takes in a batch of images, `x`, and outputs logits.  Use the layers you created above to create this model:\n",
    "\n",
    "* Apply 1, 2, or 3 Convolution and Max Pool layers\n",
    "* Apply a Flatten Layer\n",
    "* Apply 1, 2, or 3 Fully Connected Layers\n",
    "* Apply an Output Layer\n",
    "* Return the output\n",
    "* Apply [TensorFlow's Dropout](https://www.tensorflow.org/api_docs/python/tf/nn/dropout) to one or more layers in the model using `keep_prob`. "
   ]
  },
  {
   "cell_type": "code",
   "execution_count": 23,
   "metadata": {},
   "outputs": [
    {
     "name": "stdout",
     "output_type": "stream",
     "text": [
      "Neural Network Built!\n"
     ]
    }
   ],
   "source": [
    "def conv_net(x, keep_prob):\n",
    "    \"\"\"\n",
    "    Create a convolutional neural network model\n",
    "    : x: Placeholder tensor that holds image data.\n",
    "    : keep_prob: Placeholder tensor that hold dropout keep probability.\n",
    "    : return: Tensor that represents logits\n",
    "    \"\"\"\n",
    "\n",
    "    # TODO: Apply 1, 2, or 3 Convolution and Max Pool layers\n",
    "    #    Play around with different number of outputs, kernel size and stride\n",
    "    # Function Definition from Above:\n",
    "    #    conv2d_maxpool(x_tensor, conv_num_outputs, conv_ksize, conv_strides, pool_ksize, pool_strides)\n",
    "    tmp = conv2d_maxpool(x, 64, [3, 3], [1, 1], [3, 3], [2, 2])\n",
    "    tf.nn.dropout(tmp, keep_prob=keep_prob)\n",
    "    #tmp = conv2d_maxpool(tmp, 64, [5, 5], [1, 1], [3, 3], [2, 2])\n",
    "    #tf.nn.dropout(tmp, keep_prob=keep_prob)\n",
    "    #tmp = conv2d_maxpool(tmp, 64, [3, 3], [1, 1], [2, 2], [2, 2])\n",
    "    #tf.nn.dropout(tmp, keep_prob=keep_prob)\n",
    "\n",
    "    # TODO: Apply a Flatten Layer\n",
    "    # Function Definition from Above:\n",
    "    tmp = flatten(tmp)\n",
    "\n",
    "    # TODO: Apply 1, 2, or 3 Fully Connected Layers\n",
    "    #    Play around with different number of outputs\n",
    "    # Function Definition from Above:\n",
    "    #   fully_conn(x_tensor, num_outputs)\n",
    "    tmp = fully_conn(tmp, 384)\n",
    "    tf.nn.dropout(tmp, keep_prob=keep_prob)\n",
    "    tmp = fully_conn(tmp, 192)\n",
    "    tf.nn.dropout(tmp, keep_prob=keep_prob)\n",
    "    #tmp = fully_conn(tmp, 256)\n",
    "    #tf.nn.dropout(tmp, keep_prob=keep_prob)\n",
    "    \n",
    "    \n",
    "    # TODO: Apply an Output Layer\n",
    "    #    Set this to the number of classes\n",
    "    # Function Definition from Above:\n",
    "    #   output(x_tensor, num_outputs)\n",
    "    \n",
    "    \n",
    "    # TODO: return output\n",
    "    return output(tmp, 10)\n",
    "\n",
    "\n",
    "\"\"\"\n",
    "DON'T MODIFY ANYTHING IN THIS CELL THAT IS BELOW THIS LINE\n",
    "\"\"\"\n",
    "\n",
    "##############################\n",
    "## Build the Neural Network ##\n",
    "##############################\n",
    "\n",
    "# Remove previous weights, bias, inputs, etc..\n",
    "tf.reset_default_graph()\n",
    "\n",
    "# Inputs\n",
    "x = neural_net_image_input((32, 32, 3))\n",
    "y = neural_net_label_input(10)\n",
    "keep_prob = neural_net_keep_prob_input()\n",
    "\n",
    "# Model\n",
    "logits = conv_net(x, keep_prob)\n",
    "\n",
    "# Name logits Tensor, so that is can be loaded from disk after training\n",
    "logits = tf.identity(logits, name='logits')\n",
    "\n",
    "# Loss and Optimizer\n",
    "cost = tf.reduce_mean(tf.nn.softmax_cross_entropy_with_logits(logits=logits, labels=y))\n",
    "optimizer = tf.train.AdamOptimizer().minimize(cost)\n",
    "\n",
    "# Accuracy\n",
    "correct_pred = tf.equal(tf.argmax(logits, 1), tf.argmax(y, 1))\n",
    "accuracy = tf.reduce_mean(tf.cast(correct_pred, tf.float32), name='accuracy')\n",
    "\n",
    "tests.test_conv_net(conv_net)"
   ]
  },
  {
   "cell_type": "markdown",
   "metadata": {},
   "source": [
    "## Train the Neural Network\n",
    "### Single Optimization\n",
    "Implement the function `train_neural_network` to do a single optimization.  The optimization should use `optimizer` to optimize in `session` with a `feed_dict` of the following:\n",
    "* `x` for image input\n",
    "* `y` for labels\n",
    "* `keep_prob` for keep probability for dropout\n",
    "\n",
    "This function will be called for each batch, so `tf.global_variables_initializer()` has already been called.\n",
    "\n",
    "Note: Nothing needs to be returned. This function is only optimizing the neural network."
   ]
  },
  {
   "cell_type": "code",
   "execution_count": 24,
   "metadata": {},
   "outputs": [
    {
     "name": "stdout",
     "output_type": "stream",
     "text": [
      "Tests Passed\n"
     ]
    }
   ],
   "source": [
    "def train_neural_network(session, optimizer, keep_probability, feature_batch, label_batch):\n",
    "    \"\"\"\n",
    "    Optimize the session on a batch of images and labels\n",
    "    : session: Current TensorFlow session\n",
    "    : optimizer: TensorFlow optimizer function\n",
    "    : keep_probability: keep probability\n",
    "    : feature_batch: Batch of Numpy image data\n",
    "    : label_batch: Batch of Numpy label data\n",
    "    \"\"\"\n",
    "    session.run(optimizer, feed_dict={x: feature_batch, y: label_batch, keep_prob: keep_probability})\n",
    "\n",
    "\n",
    "\"\"\"\n",
    "DON'T MODIFY ANYTHING IN THIS CELL THAT IS BELOW THIS LINE\n",
    "\"\"\"\n",
    "tests.test_train_nn(train_neural_network)"
   ]
  },
  {
   "cell_type": "markdown",
   "metadata": {},
   "source": [
    "### Show Stats\n",
    "Implement the function `print_stats` to print loss and validation accuracy.  Use the global variables `valid_features` and `valid_labels` to calculate validation accuracy.  Use a keep probability of `1.0` to calculate the loss and validation accuracy."
   ]
  },
  {
   "cell_type": "code",
   "execution_count": 25,
   "metadata": {
    "collapsed": true
   },
   "outputs": [],
   "source": [
    "def print_stats(session, feature_batch, label_batch, cost, accuracy):\n",
    "    \"\"\"\n",
    "    Print information about loss and validation accuracy\n",
    "    : session: Current TensorFlow session\n",
    "    : feature_batch: Batch of Numpy image data\n",
    "    : label_batch: Batch of Numpy label data\n",
    "    : cost: TensorFlow cost function\n",
    "    : accuracy: TensorFlow accuracy function\n",
    "    \"\"\"\n",
    "    global valid_features, valid_labels\n",
    "    validation_accuracy = session.run(\n",
    "        accuracy,\n",
    "        feed_dict={\n",
    "            x: valid_features,\n",
    "            y: valid_labels,\n",
    "            keep_prob: 1.0,\n",
    "        }\n",
    "    )\n",
    "    cost = session.run(\n",
    "        cost,\n",
    "        feed_dict={\n",
    "            x: feature_batch,\n",
    "            y: label_batch,\n",
    "            keep_prob: 1.0,\n",
    "        }\n",
    "    )\n",
    "    print('Cost = {0} - Validation Accuracy = {1}'.format(cost, validation_accuracy))"
   ]
  },
  {
   "cell_type": "markdown",
   "metadata": {},
   "source": [
    "### Hyperparameters\n",
    "Tune the following parameters:\n",
    "* Set `epochs` to the number of iterations until the network stops learning or start overfitting\n",
    "* Set `batch_size` to the highest number that your machine has memory for.  Most people set them to common sizes of memory:\n",
    " * 64\n",
    " * 128\n",
    " * 256\n",
    " * ...\n",
    "* Set `keep_probability` to the probability of keeping a node using dropout"
   ]
  },
  {
   "cell_type": "code",
   "execution_count": 26,
   "metadata": {
    "collapsed": true
   },
   "outputs": [],
   "source": [
    "# TODO: Tune Parameters\n",
    "epochs = 50\n",
    "batch_size = 2048\n",
    "keep_probability = 0.5"
   ]
  },
  {
   "cell_type": "markdown",
   "metadata": {},
   "source": [
    "### Train on a Single CIFAR-10 Batch\n",
    "Instead of training the neural network on all the CIFAR-10 batches of data, let's use a single batch. This should save time while you iterate on the model to get a better accuracy.  Once the final validation accuracy is 50% or greater, run the model on all the data in the next section."
   ]
  },
  {
   "cell_type": "code",
   "execution_count": 27,
   "metadata": {},
   "outputs": [
    {
     "name": "stdout",
     "output_type": "stream",
     "text": [
      "Checking the Training on a Single Batch...\n",
      "Epoch  1, CIFAR-10 Batch 1:  Cost = 94.68253326416016 - Validation Accuracy = 0.10760000348091125\n",
      "Epoch  2, CIFAR-10 Batch 1:  Cost = 53.47340393066406 - Validation Accuracy = 0.14980000257492065\n",
      "Epoch  3, CIFAR-10 Batch 1:  Cost = 25.009132385253906 - Validation Accuracy = 0.16820000112056732\n",
      "Epoch  4, CIFAR-10 Batch 1:  Cost = 18.047012329101562 - Validation Accuracy = 0.1712000072002411\n",
      "Epoch  5, CIFAR-10 Batch 1:  Cost = 9.869587898254395 - Validation Accuracy = 0.1467999964952469\n",
      "Epoch  6, CIFAR-10 Batch 1:  Cost = 6.349555969238281 - Validation Accuracy = 0.18199999630451202\n",
      "Epoch  7, CIFAR-10 Batch 1:  Cost = 4.576967239379883 - Validation Accuracy = 0.20919999480247498\n",
      "Epoch  8, CIFAR-10 Batch 1:  Cost = 4.176875114440918 - Validation Accuracy = 0.20759999752044678\n",
      "Epoch  9, CIFAR-10 Batch 1:  Cost = 3.3843026161193848 - Validation Accuracy = 0.22380000352859497\n",
      "Epoch 10, CIFAR-10 Batch 1:  Cost = 3.1350836753845215 - Validation Accuracy = 0.23420000076293945\n",
      "Epoch 11, CIFAR-10 Batch 1:  Cost = 2.7443482875823975 - Validation Accuracy = 0.2768000066280365\n",
      "Epoch 12, CIFAR-10 Batch 1:  Cost = 2.414947271347046 - Validation Accuracy = 0.2955999970436096\n",
      "Epoch 13, CIFAR-10 Batch 1:  Cost = 2.1493074893951416 - Validation Accuracy = 0.3125999867916107\n",
      "Epoch 14, CIFAR-10 Batch 1:  Cost = 1.9179919958114624 - Validation Accuracy = 0.34040001034736633\n",
      "Epoch 15, CIFAR-10 Batch 1:  Cost = 1.7079219818115234 - Validation Accuracy = 0.3540000021457672\n",
      "Epoch 16, CIFAR-10 Batch 1:  Cost = 1.5359066724777222 - Validation Accuracy = 0.3702000081539154\n",
      "Epoch 17, CIFAR-10 Batch 1:  Cost = 1.389722466468811 - Validation Accuracy = 0.38659998774528503\n",
      "Epoch 18, CIFAR-10 Batch 1:  Cost = 1.2647022008895874 - Validation Accuracy = 0.40619999170303345\n",
      "Epoch 19, CIFAR-10 Batch 1:  Cost = 1.1385746002197266 - Validation Accuracy = 0.420199990272522\n",
      "Epoch 20, CIFAR-10 Batch 1:  Cost = 1.0381137132644653 - Validation Accuracy = 0.4302000105381012\n",
      "Epoch 21, CIFAR-10 Batch 1:  Cost = 0.9495598077774048 - Validation Accuracy = 0.4357999861240387\n",
      "Epoch 22, CIFAR-10 Batch 1:  Cost = 0.8722146153450012 - Validation Accuracy = 0.44780001044273376\n",
      "Epoch 23, CIFAR-10 Batch 1:  Cost = 0.7987058758735657 - Validation Accuracy = 0.4544000029563904\n",
      "Epoch 24, CIFAR-10 Batch 1:  Cost = 0.731759250164032 - Validation Accuracy = 0.4634000062942505\n",
      "Epoch 25, CIFAR-10 Batch 1:  Cost = 0.6668779253959656 - Validation Accuracy = 0.4681999981403351\n",
      "Epoch 26, CIFAR-10 Batch 1:  Cost = 0.6093379259109497 - Validation Accuracy = 0.4733999967575073\n",
      "Epoch 27, CIFAR-10 Batch 1:  Cost = 0.5601281523704529 - Validation Accuracy = 0.4745999872684479\n",
      "Epoch 28, CIFAR-10 Batch 1:  Cost = 0.5216404795646667 - Validation Accuracy = 0.47940000891685486\n",
      "Epoch 29, CIFAR-10 Batch 1:  Cost = 0.4954278767108917 - Validation Accuracy = 0.48339998722076416\n",
      "Epoch 30, CIFAR-10 Batch 1:  Cost = 0.44851911067962646 - Validation Accuracy = 0.49459999799728394\n",
      "Epoch 31, CIFAR-10 Batch 1:  Cost = 0.4241991639137268 - Validation Accuracy = 0.4903999865055084\n",
      "Epoch 32, CIFAR-10 Batch 1:  Cost = 0.46484610438346863 - Validation Accuracy = 0.4726000130176544\n",
      "Epoch 33, CIFAR-10 Batch 1:  Cost = 0.39451971650123596 - Validation Accuracy = 0.48179998993873596\n",
      "Epoch 34, CIFAR-10 Batch 1:  Cost = 0.33200958371162415 - Validation Accuracy = 0.49779999256134033\n",
      "Epoch 35, CIFAR-10 Batch 1:  Cost = 0.3314439058303833 - Validation Accuracy = 0.5009999871253967\n",
      "Epoch 36, CIFAR-10 Batch 1:  Cost = 0.2960954010486603 - Validation Accuracy = 0.4984000027179718\n",
      "Epoch 37, CIFAR-10 Batch 1:  Cost = 0.2723141312599182 - Validation Accuracy = 0.5058000087738037\n",
      "Epoch 38, CIFAR-10 Batch 1:  Cost = 0.24959565699100494 - Validation Accuracy = 0.5098000168800354\n",
      "Epoch 39, CIFAR-10 Batch 1:  Cost = 0.23410755395889282 - Validation Accuracy = 0.5099999904632568\n",
      "Epoch 40, CIFAR-10 Batch 1:  Cost = 0.22000283002853394 - Validation Accuracy = 0.5112000107765198\n",
      "Epoch 41, CIFAR-10 Batch 1:  Cost = 0.21594081819057465 - Validation Accuracy = 0.5037999749183655\n",
      "Epoch 42, CIFAR-10 Batch 1:  Cost = 0.23771369457244873 - Validation Accuracy = 0.49160000681877136\n",
      "Epoch 43, CIFAR-10 Batch 1:  Cost = 0.3463626503944397 - Validation Accuracy = 0.4596000015735626\n",
      "Epoch 44, CIFAR-10 Batch 1:  Cost = 0.25360211730003357 - Validation Accuracy = 0.47999998927116394\n",
      "Epoch 45, CIFAR-10 Batch 1:  Cost = 0.27238351106643677 - Validation Accuracy = 0.49639999866485596\n",
      "Epoch 46, CIFAR-10 Batch 1:  Cost = 0.19756416976451874 - Validation Accuracy = 0.5067999958992004\n",
      "Epoch 47, CIFAR-10 Batch 1:  Cost = 0.17652413249015808 - Validation Accuracy = 0.5103999972343445\n",
      "Epoch 48, CIFAR-10 Batch 1:  Cost = 0.1712423861026764 - Validation Accuracy = 0.5131999850273132\n",
      "Epoch 49, CIFAR-10 Batch 1:  Cost = 0.1388213336467743 - Validation Accuracy = 0.5167999863624573\n",
      "Epoch 50, CIFAR-10 Batch 1:  Cost = 0.12600673735141754 - Validation Accuracy = 0.5171999931335449\n"
     ]
    }
   ],
   "source": [
    "\"\"\"\n",
    "DON'T MODIFY ANYTHING IN THIS CELL\n",
    "\"\"\"\n",
    "print('Checking the Training on a Single Batch...')\n",
    "with tf.Session() as sess:\n",
    "    # Initializing the variables\n",
    "    sess.run(tf.global_variables_initializer())\n",
    "    \n",
    "    # Training cycle\n",
    "    for epoch in range(epochs):\n",
    "        batch_i = 1\n",
    "        for batch_features, batch_labels in helper.load_preprocess_training_batch(batch_i, batch_size):\n",
    "            train_neural_network(sess, optimizer, keep_probability, batch_features, batch_labels)\n",
    "        print('Epoch {:>2}, CIFAR-10 Batch {}:  '.format(epoch + 1, batch_i), end='')\n",
    "        print_stats(sess, batch_features, batch_labels, cost, accuracy)"
   ]
  },
  {
   "cell_type": "markdown",
   "metadata": {},
   "source": [
    "### Fully Train the Model\n",
    "Now that you got a good accuracy with a single CIFAR-10 batch, try it with all five batches."
   ]
  },
  {
   "cell_type": "code",
   "execution_count": 28,
   "metadata": {},
   "outputs": [
    {
     "name": "stdout",
     "output_type": "stream",
     "text": [
      "Training...\n",
      "Epoch  1, CIFAR-10 Batch 1:  Cost = 97.58499145507812 - Validation Accuracy = 0.13199999928474426\n",
      "Epoch  1, CIFAR-10 Batch 2:  Cost = 33.65509033203125 - Validation Accuracy = 0.12680000066757202\n",
      "Epoch  1, CIFAR-10 Batch 3:  Cost = 16.344125747680664 - Validation Accuracy = 0.13099999725818634\n",
      "Epoch  1, CIFAR-10 Batch 4:  Cost = 9.803397178649902 - Validation Accuracy = 0.12020000070333481\n",
      "Epoch  1, CIFAR-10 Batch 5:  Cost = 5.567026138305664 - Validation Accuracy = 0.17020000517368317\n",
      "Epoch  2, CIFAR-10 Batch 1:  Cost = 4.4304094314575195 - Validation Accuracy = 0.15839999914169312\n",
      "Epoch  2, CIFAR-10 Batch 2:  Cost = 3.7398319244384766 - Validation Accuracy = 0.1956000030040741\n",
      "Epoch  2, CIFAR-10 Batch 3:  Cost = 3.141179084777832 - Validation Accuracy = 0.23899999260902405\n",
      "Epoch  2, CIFAR-10 Batch 4:  Cost = 2.7900662422180176 - Validation Accuracy = 0.24400000274181366\n",
      "Epoch  2, CIFAR-10 Batch 5:  Cost = 2.7055530548095703 - Validation Accuracy = 0.26260000467300415\n",
      "Epoch  3, CIFAR-10 Batch 1:  Cost = 2.379805088043213 - Validation Accuracy = 0.2955999970436096\n",
      "Epoch  3, CIFAR-10 Batch 2:  Cost = 2.215785264968872 - Validation Accuracy = 0.3073999881744385\n",
      "Epoch  3, CIFAR-10 Batch 3:  Cost = 2.110175132751465 - Validation Accuracy = 0.3287999927997589\n",
      "Epoch  3, CIFAR-10 Batch 4:  Cost = 1.9467355012893677 - Validation Accuracy = 0.3467999994754791\n",
      "Epoch  3, CIFAR-10 Batch 5:  Cost = 1.9934314489364624 - Validation Accuracy = 0.3555999994277954\n",
      "Epoch  4, CIFAR-10 Batch 1:  Cost = 1.7680798768997192 - Validation Accuracy = 0.38940000534057617\n",
      "Epoch  4, CIFAR-10 Batch 2:  Cost = 1.7537024021148682 - Validation Accuracy = 0.397599995136261\n",
      "Epoch  4, CIFAR-10 Batch 3:  Cost = 1.6589418649673462 - Validation Accuracy = 0.42419999837875366\n",
      "Epoch  4, CIFAR-10 Batch 4:  Cost = 1.6047989130020142 - Validation Accuracy = 0.436599999666214\n",
      "Epoch  4, CIFAR-10 Batch 5:  Cost = 1.5959599018096924 - Validation Accuracy = 0.44339999556541443\n",
      "Epoch  5, CIFAR-10 Batch 1:  Cost = 1.4499142169952393 - Validation Accuracy = 0.4580000042915344\n",
      "Epoch  5, CIFAR-10 Batch 2:  Cost = 1.4844961166381836 - Validation Accuracy = 0.4681999981403351\n",
      "Epoch  5, CIFAR-10 Batch 3:  Cost = 1.3846197128295898 - Validation Accuracy = 0.47780001163482666\n",
      "Epoch  5, CIFAR-10 Batch 4:  Cost = 1.3704952001571655 - Validation Accuracy = 0.4860000014305115\n",
      "Epoch  5, CIFAR-10 Batch 5:  Cost = 1.3597136735916138 - Validation Accuracy = 0.4867999851703644\n",
      "Epoch  6, CIFAR-10 Batch 1:  Cost = 1.249194860458374 - Validation Accuracy = 0.5034000277519226\n",
      "Epoch  6, CIFAR-10 Batch 2:  Cost = 1.2826411724090576 - Validation Accuracy = 0.5063999891281128\n",
      "Epoch  6, CIFAR-10 Batch 3:  Cost = 1.1989247798919678 - Validation Accuracy = 0.5152000188827515\n",
      "Epoch  6, CIFAR-10 Batch 4:  Cost = 1.2053378820419312 - Validation Accuracy = 0.5210000276565552\n",
      "Epoch  6, CIFAR-10 Batch 5:  Cost = 1.188151478767395 - Validation Accuracy = 0.5175999999046326\n",
      "Epoch  7, CIFAR-10 Batch 1:  Cost = 1.1128897666931152 - Validation Accuracy = 0.5303999781608582\n",
      "Epoch  7, CIFAR-10 Batch 2:  Cost = 1.1444543600082397 - Validation Accuracy = 0.5296000242233276\n",
      "Epoch  7, CIFAR-10 Batch 3:  Cost = 1.0673115253448486 - Validation Accuracy = 0.5339999794960022\n",
      "Epoch  7, CIFAR-10 Batch 4:  Cost = 1.082594633102417 - Validation Accuracy = 0.5386000275611877\n",
      "Epoch  7, CIFAR-10 Batch 5:  Cost = 1.0625531673431396 - Validation Accuracy = 0.5342000126838684\n",
      "Epoch  8, CIFAR-10 Batch 1:  Cost = 1.0189235210418701 - Validation Accuracy = 0.5429999828338623\n",
      "Epoch  8, CIFAR-10 Batch 2:  Cost = 1.0414446592330933 - Validation Accuracy = 0.5446000099182129\n",
      "Epoch  8, CIFAR-10 Batch 3:  Cost = 0.9742169380187988 - Validation Accuracy = 0.5496000051498413\n",
      "Epoch  8, CIFAR-10 Batch 4:  Cost = 0.9888375401496887 - Validation Accuracy = 0.5473999977111816\n",
      "Epoch  8, CIFAR-10 Batch 5:  Cost = 0.9735694527626038 - Validation Accuracy = 0.5443999767303467\n",
      "Epoch  9, CIFAR-10 Batch 1:  Cost = 0.948382556438446 - Validation Accuracy = 0.5511999726295471\n",
      "Epoch  9, CIFAR-10 Batch 2:  Cost = 0.9569925665855408 - Validation Accuracy = 0.5590000152587891\n",
      "Epoch  9, CIFAR-10 Batch 3:  Cost = 0.889156699180603 - Validation Accuracy = 0.5619999766349792\n",
      "Epoch  9, CIFAR-10 Batch 4:  Cost = 0.9092856049537659 - Validation Accuracy = 0.5600000023841858\n",
      "Epoch  9, CIFAR-10 Batch 5:  Cost = 0.8920766711235046 - Validation Accuracy = 0.5565999746322632\n",
      "Epoch 10, CIFAR-10 Batch 1:  Cost = 0.8793535828590393 - Validation Accuracy = 0.5627999901771545\n",
      "Epoch 10, CIFAR-10 Batch 2:  Cost = 0.8718575835227966 - Validation Accuracy = 0.5722000002861023\n",
      "Epoch 10, CIFAR-10 Batch 3:  Cost = 0.8215774893760681 - Validation Accuracy = 0.5745999813079834\n",
      "Epoch 10, CIFAR-10 Batch 4:  Cost = 0.8409231901168823 - Validation Accuracy = 0.5672000050544739\n",
      "Epoch 10, CIFAR-10 Batch 5:  Cost = 0.8205100893974304 - Validation Accuracy = 0.5681999921798706\n",
      "Epoch 11, CIFAR-10 Batch 1:  Cost = 0.8279675841331482 - Validation Accuracy = 0.5759999752044678\n",
      "Epoch 11, CIFAR-10 Batch 2:  Cost = 0.8060542941093445 - Validation Accuracy = 0.579800009727478\n",
      "Epoch 11, CIFAR-10 Batch 3:  Cost = 0.7640098929405212 - Validation Accuracy = 0.579200029373169\n",
      "Epoch 11, CIFAR-10 Batch 4:  Cost = 0.7801843881607056 - Validation Accuracy = 0.5738000273704529\n",
      "Epoch 11, CIFAR-10 Batch 5:  Cost = 0.7728548049926758 - Validation Accuracy = 0.5705999732017517\n",
      "Epoch 12, CIFAR-10 Batch 1:  Cost = 0.7794813513755798 - Validation Accuracy = 0.5803999900817871\n",
      "Epoch 12, CIFAR-10 Batch 2:  Cost = 0.7524311542510986 - Validation Accuracy = 0.5884000062942505\n",
      "Epoch 12, CIFAR-10 Batch 3:  Cost = 0.7089653611183167 - Validation Accuracy = 0.5902000069618225\n",
      "Epoch 12, CIFAR-10 Batch 4:  Cost = 0.7180134057998657 - Validation Accuracy = 0.5820000171661377\n",
      "Epoch 12, CIFAR-10 Batch 5:  Cost = 0.7172515988349915 - Validation Accuracy = 0.5781999826431274\n",
      "Epoch 13, CIFAR-10 Batch 1:  Cost = 0.7278351783752441 - Validation Accuracy = 0.5932000279426575\n",
      "Epoch 13, CIFAR-10 Batch 2:  Cost = 0.7018749713897705 - Validation Accuracy = 0.597000002861023\n",
      "Epoch 13, CIFAR-10 Batch 3:  Cost = 0.6610636115074158 - Validation Accuracy = 0.5946000218391418\n",
      "Epoch 13, CIFAR-10 Batch 4:  Cost = 0.6629694700241089 - Validation Accuracy = 0.5875999927520752\n",
      "Epoch 13, CIFAR-10 Batch 5:  Cost = 0.6665663123130798 - Validation Accuracy = 0.5853999853134155\n",
      "Epoch 14, CIFAR-10 Batch 1:  Cost = 0.6897935271263123 - Validation Accuracy = 0.5943999886512756\n",
      "Epoch 14, CIFAR-10 Batch 2:  Cost = 0.662031888961792 - Validation Accuracy = 0.6015999913215637\n",
      "Epoch 14, CIFAR-10 Batch 3:  Cost = 0.6200921535491943 - Validation Accuracy = 0.597599983215332\n",
      "Epoch 14, CIFAR-10 Batch 4:  Cost = 0.6185128092765808 - Validation Accuracy = 0.5971999764442444\n",
      "Epoch 14, CIFAR-10 Batch 5:  Cost = 0.6233271360397339 - Validation Accuracy = 0.5929999947547913\n",
      "Epoch 15, CIFAR-10 Batch 1:  Cost = 0.6624348759651184 - Validation Accuracy = 0.5907999873161316\n",
      "Epoch 15, CIFAR-10 Batch 2:  Cost = 0.6358082294464111 - Validation Accuracy = 0.5997999906539917\n",
      "Epoch 15, CIFAR-10 Batch 3:  Cost = 0.5873087644577026 - Validation Accuracy = 0.5925999879837036\n",
      "Epoch 15, CIFAR-10 Batch 4:  Cost = 0.5768393874168396 - Validation Accuracy = 0.5974000096321106\n",
      "Epoch 15, CIFAR-10 Batch 5:  Cost = 0.5942316651344299 - Validation Accuracy = 0.592199981212616\n",
      "Epoch 16, CIFAR-10 Batch 1:  Cost = 0.6427332758903503 - Validation Accuracy = 0.5917999744415283\n",
      "Epoch 16, CIFAR-10 Batch 2:  Cost = 0.6028910875320435 - Validation Accuracy = 0.6025999784469604\n",
      "Epoch 16, CIFAR-10 Batch 3:  Cost = 0.5521776676177979 - Validation Accuracy = 0.602400004863739\n",
      "Epoch 16, CIFAR-10 Batch 4:  Cost = 0.5476459860801697 - Validation Accuracy = 0.5978000164031982\n",
      "Epoch 16, CIFAR-10 Batch 5:  Cost = 0.581531822681427 - Validation Accuracy = 0.5867999792098999\n",
      "Epoch 17, CIFAR-10 Batch 1:  Cost = 0.6099004149436951 - Validation Accuracy = 0.5934000015258789\n",
      "Epoch 17, CIFAR-10 Batch 2:  Cost = 0.5606978535652161 - Validation Accuracy = 0.6074000000953674\n",
      "Epoch 17, CIFAR-10 Batch 3:  Cost = 0.5192412734031677 - Validation Accuracy = 0.6065999865531921\n"
     ]
    },
    {
     "name": "stdout",
     "output_type": "stream",
     "text": [
      "Epoch 17, CIFAR-10 Batch 4:  Cost = 0.5088223814964294 - Validation Accuracy = 0.6093999743461609\n",
      "Epoch 17, CIFAR-10 Batch 5:  Cost = 0.5217418074607849 - Validation Accuracy = 0.6051999926567078\n",
      "Epoch 18, CIFAR-10 Batch 1:  Cost = 0.5585624575614929 - Validation Accuracy = 0.6061999797821045\n",
      "Epoch 18, CIFAR-10 Batch 2:  Cost = 0.544786274433136 - Validation Accuracy = 0.6029999852180481\n",
      "Epoch 18, CIFAR-10 Batch 3:  Cost = 0.4956393241882324 - Validation Accuracy = 0.6128000020980835\n",
      "Epoch 18, CIFAR-10 Batch 4:  Cost = 0.4883342385292053 - Validation Accuracy = 0.6122000217437744\n",
      "Epoch 18, CIFAR-10 Batch 5:  Cost = 0.49773406982421875 - Validation Accuracy = 0.6065999865531921\n",
      "Epoch 19, CIFAR-10 Batch 1:  Cost = 0.5384923219680786 - Validation Accuracy = 0.6043999791145325\n",
      "Epoch 19, CIFAR-10 Batch 2:  Cost = 0.512395977973938 - Validation Accuracy = 0.6086000204086304\n",
      "Epoch 19, CIFAR-10 Batch 3:  Cost = 0.45413804054260254 - Validation Accuracy = 0.6140000224113464\n",
      "Epoch 19, CIFAR-10 Batch 4:  Cost = 0.4575817883014679 - Validation Accuracy = 0.61080002784729\n",
      "Epoch 19, CIFAR-10 Batch 5:  Cost = 0.47925862669944763 - Validation Accuracy = 0.5989999771118164\n",
      "Epoch 20, CIFAR-10 Batch 1:  Cost = 0.5136362910270691 - Validation Accuracy = 0.6060000061988831\n",
      "Epoch 20, CIFAR-10 Batch 2:  Cost = 0.4779597222805023 - Validation Accuracy = 0.6144000291824341\n",
      "Epoch 20, CIFAR-10 Batch 3:  Cost = 0.4260195791721344 - Validation Accuracy = 0.6177999973297119\n",
      "Epoch 20, CIFAR-10 Batch 4:  Cost = 0.4306087791919708 - Validation Accuracy = 0.6129999756813049\n",
      "Epoch 20, CIFAR-10 Batch 5:  Cost = 0.42990314960479736 - Validation Accuracy = 0.6093999743461609\n",
      "Epoch 21, CIFAR-10 Batch 1:  Cost = 0.4673974812030792 - Validation Accuracy = 0.6195999979972839\n",
      "Epoch 21, CIFAR-10 Batch 2:  Cost = 0.4451150894165039 - Validation Accuracy = 0.6218000054359436\n",
      "Epoch 21, CIFAR-10 Batch 3:  Cost = 0.3924919664859772 - Validation Accuracy = 0.6172000169754028\n",
      "Epoch 21, CIFAR-10 Batch 4:  Cost = 0.40501493215560913 - Validation Accuracy = 0.614799976348877\n",
      "Epoch 21, CIFAR-10 Batch 5:  Cost = 0.39334118366241455 - Validation Accuracy = 0.616599977016449\n",
      "Epoch 22, CIFAR-10 Batch 1:  Cost = 0.4432685673236847 - Validation Accuracy = 0.621399998664856\n",
      "Epoch 22, CIFAR-10 Batch 2:  Cost = 0.42283886671066284 - Validation Accuracy = 0.6187999844551086\n",
      "Epoch 22, CIFAR-10 Batch 3:  Cost = 0.37118327617645264 - Validation Accuracy = 0.6141999959945679\n",
      "Epoch 22, CIFAR-10 Batch 4:  Cost = 0.38326555490493774 - Validation Accuracy = 0.6068000197410583\n",
      "Epoch 22, CIFAR-10 Batch 5:  Cost = 0.40040796995162964 - Validation Accuracy = 0.6068000197410583\n",
      "Epoch 23, CIFAR-10 Batch 1:  Cost = 0.4355923533439636 - Validation Accuracy = 0.6182000041007996\n",
      "Epoch 23, CIFAR-10 Batch 2:  Cost = 0.4126906394958496 - Validation Accuracy = 0.6151999831199646\n",
      "Epoch 23, CIFAR-10 Batch 3:  Cost = 0.37473979592323303 - Validation Accuracy = 0.609000027179718\n",
      "Epoch 23, CIFAR-10 Batch 4:  Cost = 0.38236477971076965 - Validation Accuracy = 0.6074000000953674\n",
      "Epoch 23, CIFAR-10 Batch 5:  Cost = 0.41787365078926086 - Validation Accuracy = 0.5888000130653381\n",
      "Epoch 24, CIFAR-10 Batch 1:  Cost = 0.4509163200855255 - Validation Accuracy = 0.6046000123023987\n",
      "Epoch 24, CIFAR-10 Batch 2:  Cost = 0.4278005063533783 - Validation Accuracy = 0.6111999750137329\n",
      "Epoch 24, CIFAR-10 Batch 3:  Cost = 0.34844887256622314 - Validation Accuracy = 0.614799976348877\n",
      "Epoch 24, CIFAR-10 Batch 4:  Cost = 0.41365841031074524 - Validation Accuracy = 0.5878000259399414\n",
      "Epoch 24, CIFAR-10 Batch 5:  Cost = 0.34927067160606384 - Validation Accuracy = 0.6169999837875366\n",
      "Epoch 25, CIFAR-10 Batch 1:  Cost = 0.46186578273773193 - Validation Accuracy = 0.6033999919891357\n",
      "Epoch 25, CIFAR-10 Batch 2:  Cost = 0.4059992730617523 - Validation Accuracy = 0.61080002784729\n",
      "Epoch 25, CIFAR-10 Batch 3:  Cost = 0.41046661138534546 - Validation Accuracy = 0.5965999960899353\n",
      "Epoch 25, CIFAR-10 Batch 4:  Cost = 0.3699439465999603 - Validation Accuracy = 0.6029999852180481\n",
      "Epoch 25, CIFAR-10 Batch 5:  Cost = 0.3645002841949463 - Validation Accuracy = 0.6050000190734863\n",
      "Epoch 26, CIFAR-10 Batch 1:  Cost = 0.3940305709838867 - Validation Accuracy = 0.6194000244140625\n",
      "Epoch 26, CIFAR-10 Batch 2:  Cost = 0.3855513036251068 - Validation Accuracy = 0.6092000007629395\n",
      "Epoch 26, CIFAR-10 Batch 3:  Cost = 0.33535584807395935 - Validation Accuracy = 0.6208000183105469\n",
      "Epoch 26, CIFAR-10 Batch 4:  Cost = 0.34002751111984253 - Validation Accuracy = 0.6051999926567078\n",
      "Epoch 26, CIFAR-10 Batch 5:  Cost = 0.32759442925453186 - Validation Accuracy = 0.6209999918937683\n",
      "Epoch 27, CIFAR-10 Batch 1:  Cost = 0.40654313564300537 - Validation Accuracy = 0.6164000034332275\n",
      "Epoch 27, CIFAR-10 Batch 2:  Cost = 0.34761688113212585 - Validation Accuracy = 0.6144000291824341\n",
      "Epoch 27, CIFAR-10 Batch 3:  Cost = 0.34135332703590393 - Validation Accuracy = 0.6122000217437744\n",
      "Epoch 27, CIFAR-10 Batch 4:  Cost = 0.2885136604309082 - Validation Accuracy = 0.6087999939918518\n",
      "Epoch 27, CIFAR-10 Batch 5:  Cost = 0.3074880838394165 - Validation Accuracy = 0.6187999844551086\n",
      "Epoch 28, CIFAR-10 Batch 1:  Cost = 0.35708609223365784 - Validation Accuracy = 0.6205999851226807\n",
      "Epoch 28, CIFAR-10 Batch 2:  Cost = 0.36052998900413513 - Validation Accuracy = 0.6039999723434448\n",
      "Epoch 28, CIFAR-10 Batch 3:  Cost = 0.3109165132045746 - Validation Accuracy = 0.618399977684021\n",
      "Epoch 28, CIFAR-10 Batch 4:  Cost = 0.2846839129924774 - Validation Accuracy = 0.6069999933242798\n",
      "Epoch 28, CIFAR-10 Batch 5:  Cost = 0.27963539958000183 - Validation Accuracy = 0.6233999729156494\n",
      "Epoch 29, CIFAR-10 Batch 1:  Cost = 0.321554958820343 - Validation Accuracy = 0.6254000067710876\n",
      "Epoch 29, CIFAR-10 Batch 2:  Cost = 0.33158057928085327 - Validation Accuracy = 0.6014000177383423\n",
      "Epoch 29, CIFAR-10 Batch 3:  Cost = 0.29874736070632935 - Validation Accuracy = 0.6104000210762024\n",
      "Epoch 29, CIFAR-10 Batch 4:  Cost = 0.28786370158195496 - Validation Accuracy = 0.6018000245094299\n",
      "Epoch 29, CIFAR-10 Batch 5:  Cost = 0.2589851915836334 - Validation Accuracy = 0.623199999332428\n",
      "Epoch 30, CIFAR-10 Batch 1:  Cost = 0.31122106313705444 - Validation Accuracy = 0.6251999735832214\n",
      "Epoch 30, CIFAR-10 Batch 2:  Cost = 0.2812674045562744 - Validation Accuracy = 0.6144000291824341\n",
      "Epoch 30, CIFAR-10 Batch 3:  Cost = 0.3064183294773102 - Validation Accuracy = 0.5989999771118164\n",
      "Epoch 30, CIFAR-10 Batch 4:  Cost = 0.3094688355922699 - Validation Accuracy = 0.5875999927520752\n",
      "Epoch 30, CIFAR-10 Batch 5:  Cost = 0.28683069348335266 - Validation Accuracy = 0.6114000082015991\n",
      "Epoch 31, CIFAR-10 Batch 1:  Cost = 0.3082117736339569 - Validation Accuracy = 0.6272000074386597\n",
      "Epoch 31, CIFAR-10 Batch 2:  Cost = 0.27397412061691284 - Validation Accuracy = 0.6272000074386597\n",
      "Epoch 31, CIFAR-10 Batch 3:  Cost = 0.2604951858520508 - Validation Accuracy = 0.6140000224113464\n",
      "Epoch 31, CIFAR-10 Batch 4:  Cost = 0.23940950632095337 - Validation Accuracy = 0.6082000136375427\n",
      "Epoch 31, CIFAR-10 Batch 5:  Cost = 0.29888302087783813 - Validation Accuracy = 0.5956000089645386\n",
      "Epoch 32, CIFAR-10 Batch 1:  Cost = 0.33839938044548035 - Validation Accuracy = 0.6068000197410583\n",
      "Epoch 32, CIFAR-10 Batch 2:  Cost = 0.3149580955505371 - Validation Accuracy = 0.6255999803543091\n",
      "Epoch 32, CIFAR-10 Batch 3:  Cost = 0.26564207673072815 - Validation Accuracy = 0.623199999332428\n",
      "Epoch 32, CIFAR-10 Batch 4:  Cost = 0.20661093294620514 - Validation Accuracy = 0.6320000290870667\n",
      "Epoch 32, CIFAR-10 Batch 5:  Cost = 0.2013808786869049 - Validation Accuracy = 0.6240000128746033\n",
      "Epoch 33, CIFAR-10 Batch 1:  Cost = 0.2690636217594147 - Validation Accuracy = 0.6240000128746033\n",
      "Epoch 33, CIFAR-10 Batch 2:  Cost = 0.269890695810318 - Validation Accuracy = 0.6295999884605408\n",
      "Epoch 33, CIFAR-10 Batch 3:  Cost = 0.24566006660461426 - Validation Accuracy = 0.625\n",
      "Epoch 33, CIFAR-10 Batch 4:  Cost = 0.2019464075565338 - Validation Accuracy = 0.633400022983551\n",
      "Epoch 33, CIFAR-10 Batch 5:  Cost = 0.20410685241222382 - Validation Accuracy = 0.626800000667572\n",
      "Epoch 34, CIFAR-10 Batch 1:  Cost = 0.248988538980484 - Validation Accuracy = 0.6317999958992004\n"
     ]
    },
    {
     "name": "stdout",
     "output_type": "stream",
     "text": [
      "Epoch 34, CIFAR-10 Batch 2:  Cost = 0.23127950727939606 - Validation Accuracy = 0.6341999769210815\n",
      "Epoch 34, CIFAR-10 Batch 3:  Cost = 0.20656880736351013 - Validation Accuracy = 0.6284000277519226\n",
      "Epoch 34, CIFAR-10 Batch 4:  Cost = 0.1739957630634308 - Validation Accuracy = 0.6373999714851379\n",
      "Epoch 34, CIFAR-10 Batch 5:  Cost = 0.1808849722146988 - Validation Accuracy = 0.6327999830245972\n",
      "Epoch 35, CIFAR-10 Batch 1:  Cost = 0.2307255119085312 - Validation Accuracy = 0.6320000290870667\n",
      "Epoch 35, CIFAR-10 Batch 2:  Cost = 0.20333246886730194 - Validation Accuracy = 0.6388000249862671\n",
      "Epoch 35, CIFAR-10 Batch 3:  Cost = 0.17859135568141937 - Validation Accuracy = 0.6348000168800354\n",
      "Epoch 35, CIFAR-10 Batch 4:  Cost = 0.15584062039852142 - Validation Accuracy = 0.6366000175476074\n",
      "Epoch 35, CIFAR-10 Batch 5:  Cost = 0.16807393729686737 - Validation Accuracy = 0.6355999708175659\n",
      "Epoch 36, CIFAR-10 Batch 1:  Cost = 0.21419201791286469 - Validation Accuracy = 0.6317999958992004\n",
      "Epoch 36, CIFAR-10 Batch 2:  Cost = 0.19757264852523804 - Validation Accuracy = 0.6394000053405762\n",
      "Epoch 36, CIFAR-10 Batch 3:  Cost = 0.1714979112148285 - Validation Accuracy = 0.6366000175476074\n",
      "Epoch 36, CIFAR-10 Batch 4:  Cost = 0.14943335950374603 - Validation Accuracy = 0.6304000020027161\n",
      "Epoch 36, CIFAR-10 Batch 5:  Cost = 0.1659318208694458 - Validation Accuracy = 0.6309999823570251\n",
      "Epoch 37, CIFAR-10 Batch 1:  Cost = 0.20596595108509064 - Validation Accuracy = 0.6348000168800354\n",
      "Epoch 37, CIFAR-10 Batch 2:  Cost = 0.19773581624031067 - Validation Accuracy = 0.6363999843597412\n",
      "Epoch 37, CIFAR-10 Batch 3:  Cost = 0.1646759808063507 - Validation Accuracy = 0.640999972820282\n",
      "Epoch 37, CIFAR-10 Batch 4:  Cost = 0.15331952273845673 - Validation Accuracy = 0.6276000142097473\n",
      "Epoch 37, CIFAR-10 Batch 5:  Cost = 0.15626120567321777 - Validation Accuracy = 0.6287999749183655\n",
      "Epoch 38, CIFAR-10 Batch 1:  Cost = 0.20812548696994781 - Validation Accuracy = 0.6276000142097473\n",
      "Epoch 38, CIFAR-10 Batch 2:  Cost = 0.19278469681739807 - Validation Accuracy = 0.6281999945640564\n",
      "Epoch 38, CIFAR-10 Batch 3:  Cost = 0.17144805192947388 - Validation Accuracy = 0.631600022315979\n",
      "Epoch 38, CIFAR-10 Batch 4:  Cost = 0.15267816185951233 - Validation Accuracy = 0.6284000277519226\n",
      "Epoch 38, CIFAR-10 Batch 5:  Cost = 0.1485796570777893 - Validation Accuracy = 0.6313999891281128\n",
      "Epoch 39, CIFAR-10 Batch 1:  Cost = 0.2201107293367386 - Validation Accuracy = 0.616599977016449\n",
      "Epoch 39, CIFAR-10 Batch 2:  Cost = 0.17588016390800476 - Validation Accuracy = 0.6304000020027161\n",
      "Epoch 39, CIFAR-10 Batch 3:  Cost = 0.18536724150180817 - Validation Accuracy = 0.6266000270843506\n",
      "Epoch 39, CIFAR-10 Batch 4:  Cost = 0.12464354932308197 - Validation Accuracy = 0.6344000101089478\n",
      "Epoch 39, CIFAR-10 Batch 5:  Cost = 0.16378720104694366 - Validation Accuracy = 0.6191999912261963\n",
      "Epoch 40, CIFAR-10 Batch 1:  Cost = 0.19652380049228668 - Validation Accuracy = 0.6335999965667725\n",
      "Epoch 40, CIFAR-10 Batch 2:  Cost = 0.17417161166667938 - Validation Accuracy = 0.6284000277519226\n",
      "Epoch 40, CIFAR-10 Batch 3:  Cost = 0.15791840851306915 - Validation Accuracy = 0.6353999972343445\n",
      "Epoch 40, CIFAR-10 Batch 4:  Cost = 0.1371965855360031 - Validation Accuracy = 0.6317999958992004\n",
      "Epoch 40, CIFAR-10 Batch 5:  Cost = 0.1471482366323471 - Validation Accuracy = 0.6190000176429749\n",
      "Epoch 41, CIFAR-10 Batch 1:  Cost = 0.18669620156288147 - Validation Accuracy = 0.6309999823570251\n",
      "Epoch 41, CIFAR-10 Batch 2:  Cost = 0.14590981602668762 - Validation Accuracy = 0.629800021648407\n",
      "Epoch 41, CIFAR-10 Batch 3:  Cost = 0.14903967082500458 - Validation Accuracy = 0.6362000107765198\n",
      "Epoch 41, CIFAR-10 Batch 4:  Cost = 0.1296754628419876 - Validation Accuracy = 0.6263999938964844\n",
      "Epoch 41, CIFAR-10 Batch 5:  Cost = 0.14031776785850525 - Validation Accuracy = 0.6236000061035156\n",
      "Epoch 42, CIFAR-10 Batch 1:  Cost = 0.1784023940563202 - Validation Accuracy = 0.6222000122070312\n",
      "Epoch 42, CIFAR-10 Batch 2:  Cost = 0.1503812074661255 - Validation Accuracy = 0.6277999877929688\n",
      "Epoch 42, CIFAR-10 Batch 3:  Cost = 0.13716822862625122 - Validation Accuracy = 0.6371999979019165\n",
      "Epoch 42, CIFAR-10 Batch 4:  Cost = 0.11284700036048889 - Validation Accuracy = 0.6299999952316284\n",
      "Epoch 42, CIFAR-10 Batch 5:  Cost = 0.12277746945619583 - Validation Accuracy = 0.6320000290870667\n",
      "Epoch 43, CIFAR-10 Batch 1:  Cost = 0.1690441220998764 - Validation Accuracy = 0.6186000108718872\n",
      "Epoch 43, CIFAR-10 Batch 2:  Cost = 0.1465756595134735 - Validation Accuracy = 0.6255999803543091\n",
      "Epoch 43, CIFAR-10 Batch 3:  Cost = 0.15015630424022675 - Validation Accuracy = 0.6263999938964844\n",
      "Epoch 43, CIFAR-10 Batch 4:  Cost = 0.11064417660236359 - Validation Accuracy = 0.6272000074386597\n",
      "Epoch 43, CIFAR-10 Batch 5:  Cost = 0.12129561603069305 - Validation Accuracy = 0.6327999830245972\n",
      "Epoch 44, CIFAR-10 Batch 1:  Cost = 0.16438549757003784 - Validation Accuracy = 0.6218000054359436\n",
      "Epoch 44, CIFAR-10 Batch 2:  Cost = 0.15484194457530975 - Validation Accuracy = 0.6179999709129333\n",
      "Epoch 44, CIFAR-10 Batch 3:  Cost = 0.15957416594028473 - Validation Accuracy = 0.6190000176429749\n",
      "Epoch 44, CIFAR-10 Batch 4:  Cost = 0.14016033709049225 - Validation Accuracy = 0.6083999872207642\n",
      "Epoch 44, CIFAR-10 Batch 5:  Cost = 0.13369342684745789 - Validation Accuracy = 0.6291999816894531\n",
      "Epoch 45, CIFAR-10 Batch 1:  Cost = 0.16065369546413422 - Validation Accuracy = 0.6335999965667725\n",
      "Epoch 45, CIFAR-10 Batch 2:  Cost = 0.15131846070289612 - Validation Accuracy = 0.626800000667572\n",
      "Epoch 45, CIFAR-10 Batch 3:  Cost = 0.1425439566373825 - Validation Accuracy = 0.6317999958992004\n",
      "Epoch 45, CIFAR-10 Batch 4:  Cost = 0.13331256806850433 - Validation Accuracy = 0.6105999946594238\n",
      "Epoch 45, CIFAR-10 Batch 5:  Cost = 0.14054147899150848 - Validation Accuracy = 0.6190000176429749\n",
      "Epoch 46, CIFAR-10 Batch 1:  Cost = 0.18058806657791138 - Validation Accuracy = 0.6105999946594238\n",
      "Epoch 46, CIFAR-10 Batch 2:  Cost = 0.1546977460384369 - Validation Accuracy = 0.6349999904632568\n",
      "Epoch 46, CIFAR-10 Batch 3:  Cost = 0.15452110767364502 - Validation Accuracy = 0.6141999959945679\n",
      "Epoch 46, CIFAR-10 Batch 4:  Cost = 0.11753375083208084 - Validation Accuracy = 0.621999979019165\n",
      "Epoch 46, CIFAR-10 Batch 5:  Cost = 0.11536945402622223 - Validation Accuracy = 0.623199999332428\n",
      "Epoch 47, CIFAR-10 Batch 1:  Cost = 0.1869186908006668 - Validation Accuracy = 0.5996000170707703\n",
      "Epoch 47, CIFAR-10 Batch 2:  Cost = 0.1580697000026703 - Validation Accuracy = 0.6309999823570251\n",
      "Epoch 47, CIFAR-10 Batch 3:  Cost = 0.1200057715177536 - Validation Accuracy = 0.6312000155448914\n",
      "Epoch 47, CIFAR-10 Batch 4:  Cost = 0.09607424587011337 - Validation Accuracy = 0.6327999830245972\n",
      "Epoch 47, CIFAR-10 Batch 5:  Cost = 0.10314295440912247 - Validation Accuracy = 0.6312000155448914\n",
      "Epoch 48, CIFAR-10 Batch 1:  Cost = 0.15158091485500336 - Validation Accuracy = 0.618399977684021\n",
      "Epoch 48, CIFAR-10 Batch 2:  Cost = 0.15795166790485382 - Validation Accuracy = 0.6182000041007996\n",
      "Epoch 48, CIFAR-10 Batch 3:  Cost = 0.12280569970607758 - Validation Accuracy = 0.6218000054359436\n",
      "Epoch 48, CIFAR-10 Batch 4:  Cost = 0.10348541289567947 - Validation Accuracy = 0.6240000128746033\n",
      "Epoch 48, CIFAR-10 Batch 5:  Cost = 0.09946254640817642 - Validation Accuracy = 0.6308000087738037\n",
      "Epoch 49, CIFAR-10 Batch 1:  Cost = 0.16777975857257843 - Validation Accuracy = 0.6182000041007996\n",
      "Epoch 49, CIFAR-10 Batch 2:  Cost = 0.14519721269607544 - Validation Accuracy = 0.6209999918937683\n",
      "Epoch 49, CIFAR-10 Batch 3:  Cost = 0.16967248916625977 - Validation Accuracy = 0.6015999913215637\n",
      "Epoch 49, CIFAR-10 Batch 4:  Cost = 0.12898121774196625 - Validation Accuracy = 0.6114000082015991\n",
      "Epoch 49, CIFAR-10 Batch 5:  Cost = 0.10504847019910812 - Validation Accuracy = 0.6327999830245972\n",
      "Epoch 50, CIFAR-10 Batch 1:  Cost = 0.13990934193134308 - Validation Accuracy = 0.6263999938964844\n",
      "Epoch 50, CIFAR-10 Batch 2:  Cost = 0.12453614920377731 - Validation Accuracy = 0.6370000243186951\n",
      "Epoch 50, CIFAR-10 Batch 3:  Cost = 0.14952629804611206 - Validation Accuracy = 0.5982000231742859\n",
      "Epoch 50, CIFAR-10 Batch 4:  Cost = 0.12862737476825714 - Validation Accuracy = 0.5992000102996826\n"
     ]
    },
    {
     "name": "stdout",
     "output_type": "stream",
     "text": [
      "Epoch 50, CIFAR-10 Batch 5:  Cost = 0.1504426747560501 - Validation Accuracy = 0.6093999743461609\n"
     ]
    }
   ],
   "source": [
    "\"\"\"\n",
    "DON'T MODIFY ANYTHING IN THIS CELL\n",
    "\"\"\"\n",
    "save_model_path = './image_classification'\n",
    "\n",
    "print('Training...')\n",
    "with tf.Session() as sess:\n",
    "    # Initializing the variables\n",
    "    sess.run(tf.global_variables_initializer())\n",
    "    \n",
    "    # Training cycle\n",
    "    for epoch in range(epochs):\n",
    "        # Loop over all batches\n",
    "        n_batches = 5\n",
    "        for batch_i in range(1, n_batches + 1):\n",
    "            for batch_features, batch_labels in helper.load_preprocess_training_batch(batch_i, batch_size):\n",
    "                train_neural_network(sess, optimizer, keep_probability, batch_features, batch_labels)\n",
    "            print('Epoch {:>2}, CIFAR-10 Batch {}:  '.format(epoch + 1, batch_i), end='')\n",
    "            print_stats(sess, batch_features, batch_labels, cost, accuracy)\n",
    "            \n",
    "    # Save Model\n",
    "    saver = tf.train.Saver()\n",
    "    save_path = saver.save(sess, save_model_path)"
   ]
  },
  {
   "cell_type": "markdown",
   "metadata": {},
   "source": [
    "# Checkpoint\n",
    "The model has been saved to disk.\n",
    "## Test Model\n",
    "Test your model against the test dataset.  This will be your final accuracy. You should have an accuracy greater than 50%. If you don't, keep tweaking the model architecture and parameters."
   ]
  },
  {
   "cell_type": "code",
   "execution_count": 29,
   "metadata": {},
   "outputs": [
    {
     "name": "stdout",
     "output_type": "stream",
     "text": [
      "INFO:tensorflow:Restoring parameters from ./image_classification\n",
      "Testing Accuracy: 0.6001201272010803\n",
      "\n"
     ]
    },
    {
     "data": {
      "image/png": "[encoded data removed]",
      "text/plain": [
       "<matplotlib.figure.Figure at 0x2e40fabfb00>"
      ]
     },
     "metadata": {
      "image/png": {
       "height": 319,
       "width": 355
      }
     },
     "output_type": "display_data"
    }
   ],
   "source": [
    "\"\"\"\n",
    "DON'T MODIFY ANYTHING IN THIS CELL\n",
    "\"\"\"\n",
    "%matplotlib inline\n",
    "%config InlineBackend.figure_format = 'retina'\n",
    "\n",
    "import tensorflow as tf\n",
    "import pickle\n",
    "import helper\n",
    "import random\n",
    "\n",
    "# Set batch size if not already set\n",
    "try:\n",
    "    if batch_size:\n",
    "        pass\n",
    "except NameError:\n",
    "    batch_size = 64\n",
    "\n",
    "save_model_path = './image_classification'\n",
    "n_samples = 4\n",
    "top_n_predictions = 3\n",
    "\n",
    "def test_model():\n",
    "    \"\"\"\n",
    "    Test the saved model against the test dataset\n",
    "    \"\"\"\n",
    "\n",
    "    test_features, test_labels = pickle.load(open('preprocess_test.p', mode='rb'))\n",
    "    loaded_graph = tf.Graph()\n",
    "\n",
    "    with tf.Session(graph=loaded_graph) as sess:\n",
    "        # Load model\n",
    "        loader = tf.train.import_meta_graph(save_model_path + '.meta')\n",
    "        loader.restore(sess, save_model_path)\n",
    "\n",
    "        # Get Tensors from loaded model\n",
    "        loaded_x = loaded_graph.get_tensor_by_name('x:0')\n",
    "        loaded_y = loaded_graph.get_tensor_by_name('y:0')\n",
    "        loaded_keep_prob = loaded_graph.get_tensor_by_name('keep_prob:0')\n",
    "        loaded_logits = loaded_graph.get_tensor_by_name('logits:0')\n",
    "        loaded_acc = loaded_graph.get_tensor_by_name('accuracy:0')\n",
    "        \n",
    "        # Get accuracy in batches for memory limitations\n",
    "        test_batch_acc_total = 0\n",
    "        test_batch_count = 0\n",
    "        \n",
    "        for test_feature_batch, test_label_batch in helper.batch_features_labels(test_features, test_labels, batch_size):\n",
    "            test_batch_acc_total += sess.run(\n",
    "                loaded_acc,\n",
    "                feed_dict={loaded_x: test_feature_batch, loaded_y: test_label_batch, loaded_keep_prob: 1.0})\n",
    "            test_batch_count += 1\n",
    "\n",
    "        print('Testing Accuracy: {}\\n'.format(test_batch_acc_total/test_batch_count))\n",
    "\n",
    "        # Print Random Samples\n",
    "        random_test_features, random_test_labels = tuple(zip(*random.sample(list(zip(test_features, test_labels)), n_samples)))\n",
    "        random_test_predictions = sess.run(\n",
    "            tf.nn.top_k(tf.nn.softmax(loaded_logits), top_n_predictions),\n",
    "            feed_dict={loaded_x: random_test_features, loaded_y: random_test_labels, loaded_keep_prob: 1.0})\n",
    "        helper.display_image_predictions(random_test_features, random_test_labels, random_test_predictions)\n",
    "\n",
    "\n",
    "test_model()"
   ]
  },
  {
   "cell_type": "markdown",
   "metadata": {},
   "source": [
    "## Why 50-80% Accuracy?\n",
    "You might be wondering why you can't get an accuracy any higher. First things first, 50% isn't bad for a simple CNN.  Pure guessing would get you 10% accuracy. However, you might notice people are getting scores [well above 80%](http://rodrigob.github.io/are_we_there_yet/build/classification_datasets_results.html#43494641522d3130).  That's because we haven't taught you all there is to know about neural networks. We still need to cover a few more techniques.\n",
    "## Submitting This Project\n",
    "When submitting this project, make sure to run all the cells before saving the notebook.  Save the notebook file as \"dlnd_image_classification.ipynb\" and save it as a HTML file under \"File\" -> \"Download as\".  Include the \"helper.py\" and \"problem_unittests.py\" files in your submission."
   ]
  }
 ],
 "metadata": {
  "kernelspec": {
   "display_name": "Python 3",
   "language": "python",
   "name": "python3"
  },
  "language_info": {
   "codemirror_mode": {
    "name": "ipython",
    "version": 3
   },
   "file_extension": ".py",
   "mimetype": "text/x-python",
   "name": "python",
   "nbconvert_exporter": "python",
   "pygments_lexer": "ipython3",
   "version": "3.5.3"
  }
 },
 "nbformat": 4,
 "nbformat_minor": 1
}
